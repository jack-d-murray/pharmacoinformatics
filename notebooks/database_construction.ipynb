{
 "cells": [
  {
   "cell_type": "markdown",
   "id": "1b41cf8a",
   "metadata": {},
   "source": [
    "# 1. Database Construction"
   ]
  },
  {
   "cell_type": "markdown",
   "id": "a9944e6a-7c11-4b00-ab51-57a6b2872396",
   "metadata": {},
   "source": [
    "The code in this notebook describes the construction of the database. Web scraping to retrieve the Product Information files for all drug products containing a small molecule active ingredient listed on the European Medicines Agency central register. The documents were converted to plain text format and split if they contained more than one product. Regular expression matching was used to isolate relevant portions of each document. .csv files requiring manual curation were exported as \"document_.csv\" and subsequently renamed and read as \"document.csv\" to prevent accidental overwrite. "
   ]
  },
  {
   "cell_type": "code",
   "execution_count": null,
   "id": "2678dc65-586c-4f0a-add0-0b65d318a8cf",
   "metadata": {},
   "outputs": [],
   "source": [
    "# Note that all necessary imports are in constructiontools.py\n",
    "from constructiontools import *"
   ]
  },
  {
   "cell_type": "code",
   "execution_count": null,
   "id": "b831d00f",
   "metadata": {},
   "outputs": [],
   "source": [
    "# Read necessary csv files\n",
    "\n",
    "raw_output = pd.read_csv(\"../csv_files/medicines_raw_output.csv\", encoding=\"ansi\") #EMA Central Register (as of 2/1/2024) with header removed\n",
    "ema_substances = pd.read_csv(\"../csv_files/sms.csv\", encoding=\"ansi\") #SMS current export, 2/1/2024"
   ]
  },
  {
   "cell_type": "code",
   "execution_count": null,
   "id": "aa606cf8",
   "metadata": {},
   "outputs": [],
   "source": [
    "# Applying a pipe of tools from constructiontools.py\n",
    "\n",
    "raw_output_cleaned = (\n",
    "    raw_output\n",
    "    .pipe(remove_products)\n",
    "    .pipe(identify_small_molecules, ema_substances)\n",
    "    .pipe(identify_nucleic_acids, ema_substances)\n",
    "    .pipe(assign_inchi_key, ema_substances)\n",
    ")"
   ]
  },
  {
   "cell_type": "code",
   "execution_count": null,
   "id": "70f382b3",
   "metadata": {},
   "outputs": [],
   "source": [
    "# Removing high molecular weight drugs\n",
    "\n",
    "missing_values = raw_output_cleaned[raw_output_cleaned[\"InChI_Keys\"].apply(lambda x: \"not found\" in x)]\n",
    "missing_values.to_csv(\"../csv_files/missing_values_.csv\")\n",
    "no_missing_exploded = raw_output_cleaned[raw_output_cleaned[\"InChI_Keys\"].apply(lambda x: \"not found\" not in x)].explode([\"Active substance\", \"InChI_Keys\"])\n",
    "no_missing_exploded[\"Mol\"] = no_missing_exploded[\"InChI_Keys\"].apply(get_inchi_from_inchikey)\n",
    "no_missing_exploded[\"MolWt\"] = no_missing_exploded[\"Mol\"].apply(get_molwt)\n",
    "no_missing_exploded.to_csv(\"../csv_files/highmolwt_.csv\")"
   ]
  },
  {
   "cell_type": "code",
   "execution_count": null,
   "id": "5afc8584",
   "metadata": {
    "scrolled": true
   },
   "outputs": [],
   "source": [
    "# Removing high molecular weight drugs after inspecting highmolwt_.csv\n",
    "\n",
    "indices_to_drop = [253, 557, 608, 670, 1186, 332, 581, 1992, 1034, 1267, 347, 1944, 301, 1474, 1725, 801, 860, 580, 431, 1485, 810, 931, 646, 890, 693, 1021, 1169, 44, 62, 155, 227, 238, 258, 283, 295, 353, 366, 484, 486, 506, 543, 613, 680, 709, 808, 838, 866, 1037, 1139, 1193, 1211, 1350, 1561, 1597, 1607, 1612, 1663, 1669, 1755, 1816, 1829, 1840, 1863, 1931, 1966, 1987]\n",
    "raw_output_dropped = raw_output_cleaned.drop(indices_to_drop)"
   ]
  },
  {
   "cell_type": "code",
   "execution_count": null,
   "id": "e421472c",
   "metadata": {},
   "outputs": [],
   "source": [
    "# Retrieving pdf link from all URLs in raw_output_dropped. Exporting to manually add in PDF URLs not identified.\n",
    "\n",
    "raw_output_dropped[\"PDF_URL\"] = raw_output_dropped[\"URL\"].apply(get_pdf_link)\n",
    "raw_output_dropped.to_csv(\"../csv_files/sourcing_pdfs_.csv\")"
   ]
  },
  {
   "cell_type": "code",
   "execution_count": null,
   "id": "25fa1114",
   "metadata": {},
   "outputs": [],
   "source": [
    "# Downloading .pdf files to correct directory, and converting them to .txt. Note that some withdrawn products did not have \n",
    "# an available EPAR product information file at the time of analysis. \n",
    "\n",
    "raw_output_with_links = pd.read_csv(\"../csv_files/sourcing_pdfs.csv\", index_col=0)\n",
    "raw_output_with_links = raw_output_with_links[~raw_output_with_links[\"PDF_URL\"].str.contains(\"Source pdf URL manually\")]\n",
    "download_pdfs(raw_output_with_links)\n",
    "generate_txt_files(raw_output_with_links)"
   ]
  },
  {
   "cell_type": "code",
   "execution_count": null,
   "id": "8dadab0e",
   "metadata": {},
   "outputs": [],
   "source": [
    "# Splitting .txt files that contain more than one SmPC into separate documents and assigning systematic names\n",
    "\n",
    "pattern = re.compile(r\"QUALITATIVE\\s*AND\\s*QUANTITATIVE\")\n",
    "\n",
    "num_smpcs = []\n",
    "for index in raw_output_with_links.index:\n",
    "    with open(f\"../regulatory_docs/txt_docs/{index}.txt\", encoding=\"utf-8\") as f:\n",
    "        txt = f.read()\n",
    "        matches = pattern.findall(txt)\n",
    "        num_smpcs.append((index, len(matches)))\n",
    "smpc_counts = pd.DataFrame(num_smpcs, columns=[\"Doc\", \"Count\"])\n",
    "\n",
    "#dfnew[dfnew[\"Count\"]==0]  manually converted doc 1490 to .txt format\n",
    "\n",
    "for index in raw_output_with_links.index:\n",
    "    with open(f\"../regulatory_docs/txt_docs/{index}.txt\", \"r\", encoding=\"utf-8\") as f:\n",
    "        txt = f.read()\n",
    "        formatted_text = re.sub(pattern, \"/=/=/=QUANTITATIVE AND QUALITATIVE\", txt)\n",
    "        split_text = formatted_text.split(\"/=/=/=\")\n",
    "        split_text.pop(0)\n",
    "        for smpc in range(len(split_text)):\n",
    "            with open(f\"./regulatory_docs/txt_docs_split/{index}_{smpc}.txt\", \"a+\", encoding=\"utf-8\") as f:\n",
    "                f.write(split_text[smpc])"
   ]
  },
  {
   "cell_type": "code",
   "execution_count": null,
   "id": "7065b9ba",
   "metadata": {},
   "outputs": [],
   "source": [
    "# Making a new datafrake to account for multiple SmPCs in a single .txt file\n",
    "\n",
    "split_dataframe = update_master_table(raw_output_with_links)"
   ]
  },
  {
   "cell_type": "code",
   "execution_count": null,
   "id": "98f0577a",
   "metadata": {},
   "outputs": [],
   "source": [
    "# Using regular expressions to add relevant SmPC sections for later manual curation\n",
    "\n",
    "all_raw_data = (\n",
    "    split_dataframe\n",
    "    .pipe(add_pharmaceutical_form)\n",
    "    .pipe(add_pharmacokinetics)\n",
    "    .pipe(add_qq_composition)\n",
    "    .pipe(add_excipients)\n",
    ")\n",
    "# Remove dosage froms that are not the highest strength clinically approved product\n",
    "all_raw_data.to_csv(\"../csv_files/remove_low_strength_.csv\")"
   ]
  },
  {
   "cell_type": "code",
   "execution_count": null,
   "id": "7f87ba2d",
   "metadata": {},
   "outputs": [],
   "source": [
    "# Add the dose and active ingredients, ensuring it is clear what form of the drug\n",
    "# the dose refers to\n",
    "\n",
    "low_strength_removed = pd.read_csv(\"../csv_files/remove_low_strength.csv\", index_col=0)\n",
    "low_strength_removed = low_strength_removed[low_strength_removed[\"Delete\"] != \"Delete\"].drop(columns=[\"Delete\"])\n",
    "low_strength_removed.to_csv(\"../csv_files/adding_pharmacokinetics_.csv\")"
   ]
  },
  {
   "cell_type": "code",
   "execution_count": null,
   "id": "b43a33c1",
   "metadata": {},
   "outputs": [],
   "source": [
    "# Using excipient_map, a dataframe which shows each product side-by-side with the updated excipient list is showm.\n",
    "# It is then exported for manual curation.\n",
    "\n",
    "register1 = pd.read_csv(\"../csv_files/adding_pharmacokinetics.csv\", index_col=0)\n",
    "mapping1 = pd.read_csv(\"../csv_files/adding_excipients.csv\", index_col=0) # Previously curated excipient mapping\n",
    "new_df = clean_excipients(register1, mapping1)\n",
    "inactive_ingredients = pd.read_csv(\"../csv_files/excipient_map.csv\", encoding=\"ANSI\", index_col=0)\n",
    "final_prods = pd.merge(register1, inactive_ingredients[\"Excipients_Controlled\"], left_index=True, right_index=True)\n",
    "final_prods.dropna(subset=\"Excipients_Controlled\", inplace=True)\n",
    "final_prods[\"Excipients_Controlled\"] = final_prods[\"Excipients_Controlled\"].apply(nan_to_list)\n",
    "final_df = pd.merge(new_df, final_prods[[\"Product number\", \"Route\", \"Excipients_Controlled\"]].drop_duplicates(subset=[\"Product number\", \"Route\"]), how=\"left\", on=[\"Product number\", \"Route\"])\n",
    "final_df.to_csv(\"../csv_files/fixing_excipients_.csv\")"
   ]
  },
  {
   "cell_type": "code",
   "execution_count": null,
   "id": "24bf79f0",
   "metadata": {},
   "outputs": [],
   "source": [
    "# Fixing a range of curation errors and grouping certain excipients, e.g. polyethylene oxide\n",
    "# Note that this process was iterative during the study and that errors in excipient curation were correct on a continuous basis.\n",
    "\n",
    "excipients_df = pd.read_csv(\"../csv_files/fixing_excipients.csv\", index_col=0)\n",
    "replacements = {\n",
    "                \"POLYVINYL ALCHOL PART. HYDROLISED\": \"POLYVINYL ALCOHOL PART. HYDROLISED\", \n",
    "                \"LOW-SUBSTITUTED HYDROXYPROPYL CELLULOSE\": \"LOW SUBSTITUTED HYDROXYPROPYL CELLULOSE\", \n",
    "                \"HYDROXY PROPYL CELLULOSE (LOW SUBSTITUTED)\": \"LOW SUBSTITUTED HYDROXYPROPYL CELLULOSE\",\n",
    "                \"HYDROXYETHYL CELLULOSE\": \"HYDROXYETHYLCELLULOSE\",\n",
    "                \"AMMONIUM GLYCYRRHIZATE\": \"AMMONIUM GLYCYRRHIZATE\",\n",
    "                \"POLYVINYL ALCOHOL PART. HYDROLISED\": \"POLYVINYL ALCOHOL PART. HYDROLISED\",\n",
    "                \"SACCHARIN SODIUM\": \"SODIUM SACCHARIN\",\n",
    "                \"SILICA HYDROPHOBIC COLLOIDAL\": \"HYDROPHOBIC COLLOIDAL SILICA\",\n",
    "                \"HYRPOMELLOSE\": \"HYPROMELLOSE\",\n",
    "                \"SULPHUR DIOXIDE \": \"SULPHUR DIOXIDE\",\n",
    "                \"SODIUM CARMELLOSE\": \"CARMELLOSE SODIUM\",\n",
    "                \"SODIUM BICARBONATE (E500)\": \"SODIUM HYDROGEN CARBONATE\",\n",
    "                \"METHYLHYDROXYPROPYLCELLULOSE\": \"HYPROMELLOSE\",\n",
    "                \"POLYETHYLENE OXIDE 7000K\": \"POLYETHYLENE OXIDE\",\n",
    "                \"POLYETHYLENE OXIDE 200K\": \"POLYETHYLENE OXIDE\",\n",
    "                \"METHYLHYDROXYPROPYLCELLULOSE\": \"HYPROMELLOSE\",\n",
    "                \"SILICA DENTAL TYPE\": \"SILICON DIOXIDE, ANHYDROUS\",\n",
    "                \"SILICA COLLOIDAL HYDROPHOBIC\": \"HYDROPHOBIC COLLOIDAL SILICA\",\n",
    "                \"GLYCOL MONOSTEARATE\": \"GLYCEROL MONOSTEARATE\",\n",
    "                \"HYDROXYPROPYL CELLULOSE\": \"HYDROXYPROPYLCELLULOSE\",\n",
    "                \"MONOAMMONIUM GLYCYRRHIZINATE\": \"AMMONIUM GLYCYRRHIZATE\",\n",
    "                \"GLYCERIN\": \"GLYCEROL\",\n",
    "                \"MAIZE MALTODEXTRIN\": \"MALTODEXTRIN\",\n",
    "                \"MALTODEXTRIN \": \"MALTODEXTRIN\",\n",
    "                \"AMMONIUM GLYCYRRHIZATE\": \"AMMONIUM GLYCYRRHIZATE\"\n",
    "                }\n",
    "def modify_dataframe(df, replacements):\n",
    "    def replace_values(lst):\n",
    "        modified_lst = []\n",
    "        for item in lst:\n",
    "            if item.upper() in [\"BLANK\", \"CELLULOSE\"]:\n",
    "                continue\n",
    "            else:\n",
    "                modified_item = replacements.get(item.upper(), item)\n",
    "                modified_lst.append(modified_item)\n",
    "        return [item for item in modified_lst if item is not None]\n",
    "    df[\"Excipients_Controlled\"] = df[\"Excipients_Controlled\"].apply(ast.literal_eval)\n",
    "    df[\"Excipients_Controlled\"] = df[\"Excipients_Controlled\"].apply(replace_values)\n",
    "modify_dataframe(excipients_df, replacements)\n",
    "excipients_df[\"Excipients_Final\"] = excipients_df[\"Excipients_Controlled\"].apply(lambda x: list(set(x)))\n",
    "excipients_df.to_csv(\"../csv_files/final_master_df.csv\")"
   ]
  },
  {
   "cell_type": "code",
   "execution_count": null,
   "id": "076675d2",
   "metadata": {},
   "outputs": [],
   "source": [
    "# Generating a precursor to parent_drugs.csv\n",
    "active_forms = pd.read_csv(\"../csv_files/fixing_excipients.csv\")\n",
    "active_forms[\"actives_in_dosage_form\"] = active_forms[\"actives_in_dosage_form\"].apply(turn_actives_into_list)\n",
    "active_forms[\"actives_in_dosage_form\"]\n",
    "final_actives = active_forms[\"actives_in_dosage_form\"].explode()\n",
    "final_actives_df = pd.DataFrame(final_actives)\n",
    "final_actives_df[\"product\"] = final_actives_df.index\n",
    "final_actives_df.rename(columns = {\"actives_in_dosage_form\": \"active_PSS\"}, inplace=True)\n",
    "final_actives_df_identifiers = assign_identifier_to_actives(final_actives_df, ema_substances)\n",
    "final_actives_df_identifiers[\"pss_inchi\"] = final_actives_df_identifiers[\"Inchikey\"].apply(get_inchi_from_inchikey)\n",
    "final_actives_df_identifiers[\"IsomericSMILES\"] = final_actives_df_identifiers[\"Inchikey\"].apply(get_isomeric_smiles_from_inchikey)\n",
    "final_actives_df_identifiers.to_csv(\"../csv_files/withinchikeys_.csv\")"
   ]
  },
  {
   "cell_type": "code",
   "execution_count": null,
   "id": "0b005a8b-eef2-415f-9dd3-954bfb0f09bc",
   "metadata": {},
   "outputs": [],
   "source": [
    "# Generating different line notations for active ingredient and getting ChEMBL ID for parent drug.\n",
    "# Those without will be manually curated from adding_chembl_to_actives_.csv\n",
    "\n",
    "df4 = pd.read_csv(\"../csv_files/withinchikeys.csv\")\n",
    "df4[\"ps_smiles\"], df4[\"ps_num_drugs\"] = zip(*df4[\"IsomericSMILES\"].apply(desolvate))\n",
    "df4[\"p_smiles\"], df4[\"p_inchi\"], df4[\"p_inchikey\"] = *df4[\"ps_smiles\"], df4[\"ps_num_drugs\"] = zip(*df4[\"IsomericSMILES\"].apply(get_p_form))\n",
    "df4[\"p_chembl_id\"] = df4[\"p_inchikey\"].apply(get_chembl_id)\n",
    "df4[\"chembl_mismatch\"] = df4[\"p_chembl_id\"].apply(lambda x: True if x == \"error\" else False )\n",
    "df4.to_csv(\"../csv_files/adding_chembl_to_actives_.csv\")"
   ]
  },
  {
   "cell_type": "markdown",
   "id": "6c9b1980-7d9b-41f9-99dc-9752a83fe850",
   "metadata": {},
   "source": [
    "## Generating final files for database"
   ]
  },
  {
   "cell_type": "code",
   "execution_count": null,
   "id": "dc56bab3-bc26-4500-9d1a-4b2d126ed468",
   "metadata": {},
   "outputs": [],
   "source": [
    "# drug_products.csv\n",
    "\n",
    "drug_product_df = pd.read_csv(\"../csv_files/final_master_df.csv\", index_col=0)\n",
    "drug_product_df = drug_product_df[['Medicine name',\n",
    "       'Product number', 'Patient safety',\n",
    "       'Authorisation status', 'ATC code', 'Additional monitoring', 'Generic',\n",
    "       'Conditional approval', 'Exceptional circumstances',\n",
    "       'Accelerated assessment', 'Orphan medicine',\n",
    "       'Marketing authorisation date',\n",
    "       'Marketing authorisation holder/company name',\n",
    "       'Human pharmacotherapeutic group',  'Condition / indication', 'URL', 'Dosage Form', 'Route']]\n",
    "drug_product_df = drug_product_df.reset_index()\n",
    "drug_product_df.rename(columns={\n",
    "    'Column2':\"product_id\",\n",
    "    'Medicine name':\"product_name\",\n",
    "    'Product number':\"ema_number\", \n",
    "    'Patient safety':\"patient_safety\",\n",
    "    'Authorisation status':\"authorisation_status\", \n",
    "    'ATC code':\"atc_code\", \n",
    "    'Additional monitoring':\"additional\", \n",
    "    'Generic':\"generic\",\n",
    "    'Conditional approval':\"conditional\", \n",
    "    'Exceptional circumstances':\"exceptional\",\n",
    "    'Accelerated assessment':\"accelerated\", \n",
    "    'Orphan medicine':\"orphan\",\n",
    "    'Marketing authorisation date':\"authorisation_date\",\n",
    "    'Marketing authorisation holder/company name':\"authorisation_holder\",\n",
    "    'Human pharmacotherapeutic group':\"therapeutic_group\",  \n",
    "    'Condition / indication':\"indication\",\n",
    "    'URL':\"url\",\n",
    "    'Dosage Form':\"dosage_form\", \n",
    "    'Route':\"route\"}, inplace=True)\n",
    "drug_product_df.replace({'yes': True, 'no': False}, inplace=True)\n",
    "drug_product_df.to_csv(\"../pharmacoinformatics_database/drug_products.csv\", index=False)\n",
    "drug_product_df.dtypes"
   ]
  },
  {
   "cell_type": "code",
   "execution_count": null,
   "id": "e38cbb49",
   "metadata": {
    "scrolled": true
   },
   "outputs": [],
   "source": [
    "# parent_drugs.csv\n",
    "\n",
    "active_substances = pd.read_csv(\"../csv_files/adding_chembl_to_actives.csv\", index_col=0)\n",
    "intravenous_pharmacokinetics = pd.read_csv(\"../csv_files/lombardo_dataset.csv\", encoding=\"ANSI\")\n",
    "def get_inchikey(smiles):\n",
    "    try:\n",
    "        return Chem.MolToInchiKey(Chem.MolFromSmiles(smiles)) # tried getting parent and does not improve matching\n",
    "    except:\n",
    "        return \"error\"\n",
    "intravenous_pharmacokinetics[\"Inchikey\"] = intravenous_pharmacokinetics[\"SMILES\"].apply(get_inchikey)\n",
    "intravenous_pharmacokinetics = intravenous_pharmacokinetics[[\"Inchikey\",\n",
    "                                                             \"human_VDss_L_per_kg\",\n",
    "                                                             \"human_CL_mL_min_kg\",\t\n",
    "                                                             \"fraction_unbound_plasma\",\t\n",
    "                                                             \"MRT_h\",\n",
    "                                                             \"terminal_half_life_h\"]]\n",
    "intravenous_pharmacokinetics.rename(columns={\"Inchikey\":\"p_inchikey\",\n",
    "                                            \"human_VDss_L_per_kg\":\"vdss\",\n",
    "                                            \"human_CL_mL_min_kg\":\"clearance\",\t\n",
    "                                            \"MRT_h\":\"mrt\",\n",
    "                                            \"terminal_half_life_h\":\"terminal_half_life\"}, inplace=True)\n",
    "active_substances = active_substances[[\"p_smiles\",\n",
    "                                       \"p_inchi\",\n",
    "                                       \"p_chembl_id\",\n",
    "                                       \"p_inchikey\"]]\n",
    "active_substances.rename(columns={\"Substance_Name\":\"original_substance_name\"}, inplace=True)\n",
    "active_substances.drop_duplicates(subset=\"p_inchikey\", inplace=True)\n",
    "active_substances_final = pd.merge(active_substances, intravenous_pharmacokinetics, how=\"left\", on=[\"p_inchikey\"])\n",
    "active_substances_final.drop_duplicates(subset=\"p_inchikey\", keep=\"last\", inplace=True) # Two entries for repaglinide, keeping second as more data\n",
    "active_substances_final = active_substances_final.reset_index()\n",
    "active_substances_final.rename(columns={\"index\":\"parent_drug_id\"}, inplace=True)\n",
    "active_substances_final.to_csv(\"../pharmacoinformatics_database/parent_drugs.csv\", index=False)\n",
    "active_substances_final.dtypes"
   ]
  },
  {
   "cell_type": "code",
   "execution_count": null,
   "id": "f431a7b0-b12a-475d-acdf-b9bf240218db",
   "metadata": {},
   "outputs": [],
   "source": [
    "# formulated_drugs.csv \n",
    "\n",
    "formulated_drugs_df = pd.read_csv(\"../csv_files/final_master_df.csv\", index_col=0)\n",
    "drug_structures = pd.read_csv(\"../csv_files/adding_chembl_to_actives.csv\")\n",
    "\n",
    "formulated_drugs_df = formulated_drugs_df[[\"actives_in_dosage_form\", \"actives_by_dose\", \"dose\", \"Fa1\", \"Fa2\", \"Fa3\", \"Fa4\", \"F1\", \"F2\", \"F3\", \"F4\", \"Tmax1\", \"Tmax2\", \"Tmax3\", \"Tmax4\", \"Notes\"]]\n",
    "formulated_drugs_df[\"actives_in_dosage_form\"] = formulated_drugs_df[\"actives_in_dosage_form\"].apply(lambda x: x.upper().strip().split(\",\"))\n",
    "formulated_drugs_df[\"actives_by_dose\"] = formulated_drugs_df[\"actives_by_dose\"].apply(lambda x: x.upper().strip().split(\",\"))\n",
    "formulated_drugs_df[\"dose\"] = formulated_drugs_df[\"dose\"].apply(lambda x: x.upper().strip().split(\"/\"))\n",
    "formulated_drugs_df[\"Fa\"] = formulated_drugs_df.apply(lambda row: [row[\"Fa1\"], row[\"Fa2\"], row[\"Fa3\"], row[\"Fa4\"]], axis=1)\n",
    "formulated_drugs_df[\"F\"] = formulated_drugs_df.apply(lambda row: [row[\"F1\"], row[\"F2\"], row[\"F3\"], row[\"F4\"]], axis=1)\n",
    "formulated_drugs_df[\"Tmax\"] = formulated_drugs_df.apply(lambda row: [row[\"Tmax1\"], row[\"Tmax2\"], row[\"Tmax3\"], row[\"Tmax4\"]], axis=1)\n",
    "formulated_drugs_df.drop([\"Fa1\", \"Fa2\", \"Fa3\", \"Fa4\", \"F1\", \"F2\", \"F3\", \"F4\", \"Tmax1\", \"Tmax2\", \"Tmax3\", \"Tmax4\"], axis=1, inplace=True)\n",
    "\n",
    "def prepare_for_explode(row):\n",
    "    length = len(row[\"actives_in_dosage_form\"])\n",
    "    row[\"Fa\"] = row[\"Fa\"][:length]\n",
    "    row[\"F\"] = row[\"F\"][:length]\n",
    "    row[\"Tmax\"] = row[\"Tmax\"][:length]\n",
    "    return row\n",
    "formulated_drugs_df = formulated_drugs_df.apply(prepare_for_explode, axis=1)\n",
    "formulated_drugs_df = formulated_drugs_df.explode([\"actives_in_dosage_form\", \"actives_by_dose\", \"dose\", \"Fa\", \"F\", \"Tmax\"])\n",
    "formulated_drugs_df[\"dose_value\"] = formulated_drugs_df[\"dose\"].str.extract(r\"(\\d+\\.?\\d*)\").astype(float)\n",
    "formulated_drugs_df[\"dose_unit\"] = formulated_drugs_df[\"dose\"].str.extract(r\"(\\d+\\.?\\d*\\s*)(.*)\")[1].str.strip()\n",
    "formulated_drugs_df.drop(columns=[\"dose\"], inplace=True)\n",
    "formulated_drugs_df = formulated_drugs_df.reset_index()\n",
    "formulated_drugs_df.rename(columns={\"Column2\":\"product_id\"}, inplace=True)\n",
    "formulated_drugs_df[\"actives_in_dosage_form\"] = formulated_drugs_df[\"actives_in_dosage_form\"].str.strip()\n",
    "drug_structures = drug_structures[[\"active_PSS\",\n",
    "                                   \"Inchikey\",\n",
    "                                   \"pss_inchi\",\n",
    "                                   \"IsomericSMILES\",\n",
    "                                   \"ps_smiles\",\n",
    "                                   \"ps_num_drugs\",\n",
    "                                   \"p_inchikey\"]]\n",
    "drug_structures.rename(columns={\n",
    "    \"active_PSS\":\"actives_in_dosage_form\",\n",
    "    \"Inchikey\":\"pss_inchikey\",\n",
    "    \"IsomericSMILES\":\"pss_smiles\"\n",
    "}, inplace=True)\n",
    "\n",
    "drug_structures.drop_duplicates(subset=\"actives_in_dosage_form\", keep=\"first\", inplace=True)\n",
    "final_formulated_drugs = pd.merge(formulated_drugs_df, drug_structures, how=\"left\", on=\"actives_in_dosage_form\")\n",
    "mapping_df = pd.read_csv(\"../pharmacoinformatics_database/parent_drugs.csv\")\n",
    "mapping_df = mapping_df[[\"p_inchikey\", \"parent_drug_id\"]]\n",
    "mapping = mapping_df.set_index(\"p_inchikey\")[\"parent_drug_id\"].to_dict()\n",
    "final_formulated_drugs[\"parent_drug_id\"] = final_formulated_drugs[\"p_inchikey\"].map(mapping)\n",
    "final_formulated_drugs.drop(columns=[\"p_inchikey\"], inplace=True)\n",
    "final_formulated_drugs[[\"Fa\", \"F\", \"Tmax\"]] = final_formulated_drugs[[\"Fa\", \"F\", \"Tmax\"]].replace(\"Blank\", np.nan)\n",
    "final_formulated_drugs[[\"Fa\", \"F\", \"Tmax\"]] = final_formulated_drugs[[\"Fa\", \"F\", \"Tmax\"]].astype(float)\n",
    "final_formulated_drugs.rename(columns={\"Fa\":\"fa\", \n",
    "                                       \"F\":\"f\", \n",
    "                                       \"Tmax\":\"tmax\",\n",
    "                                       \"Notes\":\"notes\"}, inplace=True)\n",
    "final_formulated_drugs.to_csv(\"../csv_files/formulated_drugs_.csv\", index=False) #curation needed to remove notes\n",
    "final_formulated_drugs_curated = pd.read_csv(\"../pharmacoinformatics_database/formulated_drugs.csv\")\n",
    "final_formulated_drugs_curated.dtypes"
   ]
  },
  {
   "cell_type": "code",
   "execution_count": null,
   "id": "13d92554-6259-433e-81fd-9e072f85be26",
   "metadata": {},
   "outputs": [],
   "source": [
    "# formulations.csv DO NOT CHANGE\n",
    "\n",
    "excipients_df = pd.read_csv(\"../csv_files/final_master_df.csv\", index_col=0)\n",
    "excipients_df = excipients_df[[\"Excipients_Final\"]]\n",
    "excipients_df.rename(columns={\"Excipients_Final\":\"excipient\"}, inplace=True)\n",
    "excipients_df[\"excipient\"] = excipients_df[\"excipient\"].apply(ast.literal_eval)\n",
    "excipients_df = excipients_df.explode(\"excipient\")\n",
    "excipients_list = excipients_df[\"excipient\"].dropna().unique()\n",
    "excipient_dict = {excipient: int(num + 1) for num, excipient in enumerate(excipients_list)}\n",
    "excipients_df[\"excipient_id\"] = excipients_df[\"excipient\"].map(excipient_dict).fillna(0)\n",
    "excipients_df[\"excipient_id\"] = excipients_df[\"excipient_id\"].astype(int)\n",
    "excipients_df = excipients_df.reset_index()\n",
    "excipients_df.rename(columns={\"Column2\":\"product_id\"}, inplace=True)\n",
    "excipients_df.to_csv(\"../pharmacoinformatics_database/formulations.csv\", index_label=\"product_id\")\n",
    "excipients_df.dtypes"
   ]
  },
  {
   "cell_type": "code",
   "execution_count": null,
   "id": "ec16796a-0b87-4dea-9542-8574ee3c126e",
   "metadata": {},
   "outputs": [],
   "source": [
    "# excipients.csv\n",
    "#import time\n",
    "excip_chem_df = pd.DataFrame(list(excipient_dict.items()), columns=[\"excipient_name\", \"excipient_id\"])\n",
    "# Apply the function to each drug in the dataframe\n",
    "excip_chem_df[\"inchi\"] = excip_chem_df[\"excipient_name\"].apply(get_pubchem_for_excipient)\n",
    "excip_chem_df.to_csv(\"../csv_files/excipients_.csv\")"
   ]
  },
  {
   "cell_type": "code",
   "execution_count": null,
   "id": "1dd6bad2-1ef3-4763-9264-654402bff162",
   "metadata": {
    "scrolled": true
   },
   "outputs": [],
   "source": [
    "# Getting ChEMBL and PubChem ID from curated excipients\n",
    "\n",
    "excipients_with_inchi = pd.read_csv(\"../csv_files/excipients_curated.csv\", index_col=0)\n",
    "excipients_with_inchi[\"excipient_inchikey\"] = excipients_with_inchi[\"inchi\"].apply(get_inchikey_from_inchi)\n",
    "excipients_with_inchi[\"excipient_chembl_id\"] = excipients_with_inchi[\"excipient_inchikey\"].apply(constructiontools.get_chembl_id)\n",
    "excipients_with_inchi.replace(\"error\", np.nan, inplace=True)\n",
    "excipients_with_inchi.rename(columns={\"inchi\":\"excipient_inchi\"}, inplace=True)\n",
    "excipients_with_inchi[\"excipient_pubchem_cid\"] = excipients_with_inchi[\"excipient_inchikey\"].apply(get_pubchem_cid)\n",
    "excipients_with_inchi.to_csv(\"../pharmacoinformatics_database/excipients.csv\", index=False)"
   ]
  },
  {
   "cell_type": "code",
   "execution_count": null,
   "id": "e8f21936-3975-4b4c-b2ec-ad8b6575a6f0",
   "metadata": {},
   "outputs": [],
   "source": [
    "# Automated construction of data dictionary\n",
    "\n",
    "list_for_data_dict = [\n",
    "    (drug_product_df, \"drug_products.csv\"),\n",
    "    (active_substances_final, \"parent_drugs.csv\"),\n",
    "    (final_formulated_drugs_curated, \"formulated_drugs.csv\"),\n",
    "    (excipients_df, \"formulations.csv\"),\n",
    "    (excipients_with_inchi, \"excipients.csv\")\n",
    "]\n",
    "\n",
    "create_combined_data_dictionary(list_for_data_dict).to_csv(\"../pharmacoinformatics_database/data_dictionary.csv\", index=False)"
   ]
  }
 ],
 "metadata": {
  "kernelspec": {
   "display_name": "Python 3 (ipykernel)",
   "language": "python",
   "name": "python3"
  },
  "language_info": {
   "codemirror_mode": {
    "name": "ipython",
    "version": 3
   },
   "file_extension": ".py",
   "mimetype": "text/x-python",
   "name": "python",
   "nbconvert_exporter": "python",
   "pygments_lexer": "ipython3",
   "version": "3.12.4"
  }
 },
 "nbformat": 4,
 "nbformat_minor": 5
}
